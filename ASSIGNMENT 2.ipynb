{
 "cells": [
  {
   "cell_type": "markdown",
   "metadata": {},
   "source": [
    "QUESTION 1"
   ]
  },
  {
   "cell_type": "code",
   "execution_count": 1,
   "metadata": {},
   "outputs": [
    {
     "name": "stdout",
     "output_type": "stream",
     "text": [
      "2\n",
      "4\n",
      "5\n",
      "9\n",
      "13\n",
      "35\n",
      "7\n",
      "11\n",
      "8\n",
      "1\n",
      "[2, 4, 8]\n"
     ]
    }
   ],
   "source": [
    "\n",
    "list=[]\n",
    "i=1\n",
    "while(i<=10):\n",
    "    n=int(input())\n",
    "    if(n%2==0):\n",
    "        list.append(n)\n",
    "    i=i+1\n",
    "print(list)"
   ]
  },
  {
   "cell_type": "code",
   "execution_count": null,
   "metadata": {},
   "outputs": [],
   "source": [
    "QUESTION 2"
   ]
  },
  {
   "cell_type": "markdown",
   "metadata": {},
   "source": [
    "Comprehension in python provide us with a short and concise way to construct new sequences using sequences which have been already defined.Python supports 4 types of comprehensions,1)List comprehensions 2)Dictionary comprehensions 3)Set comprehensions 4)Generation comprehensions Ex1:Suppose we want to create a new list 'b' where list 'a'is given and elements in 'b' are exactly the squares of elements in 'a'.Then instead of using loops we can use list comprehensions.Ex2:Suppose we have two list'x' and 'y' we want to find the common elements.Here also we can use list comprehensions instead of loops.Ex3:Suppose if we want to split a word and create a new list etc."
   ]
  },
  {
   "cell_type": "code",
   "execution_count": 3,
   "metadata": {},
   "outputs": [
    {
     "name": "stdout",
     "output_type": "stream",
     "text": [
      "[2, 4, 6, 8, 1]\n",
      "[4, 16, 36, 64, 1]\n"
     ]
    }
   ],
   "source": [
    "#Example 1\n",
    "a=[2,4,6,8,1]\n",
    "print(a)\n",
    "b=[x**2 for x in a]\n",
    "print(b)"
   ]
  },
  {
   "cell_type": "code",
   "execution_count": 4,
   "metadata": {},
   "outputs": [
    {
     "name": "stdout",
     "output_type": "stream",
     "text": [
      "[1, 3, 2, 4, 7, 8]\n",
      "[2, 4, 6, 8, 10]\n",
      "[2, 4, 8]\n"
     ]
    }
   ],
   "source": [
    "#Example 2\n",
    "m=[1,3,2,4,7,8]\n",
    "print(m)\n",
    "n=[2,4,6,8,10]\n",
    "print(n)\n",
    "common=[a for a in m for b in n if a==b]\n",
    "print(common)"
   ]
  },
  {
   "cell_type": "code",
   "execution_count": 5,
   "metadata": {},
   "outputs": [
    {
     "name": "stdout",
     "output_type": "stream",
     "text": [
      "['D', 'A', 'T', 'A', 'S', 'C', 'I', 'E', 'N', 'C', 'E']\n"
     ]
    }
   ],
   "source": [
    "#Example 3\n",
    "new=[x for x in 'DATASCIENCE']\n",
    "print(new)"
   ]
  },
  {
   "cell_type": "markdown",
   "metadata": {},
   "source": [
    "QUESTION 3"
   ]
  },
  {
   "cell_type": "code",
   "execution_count": 7,
   "metadata": {},
   "outputs": [
    {
     "name": "stdout",
     "output_type": "stream",
     "text": [
      "5\n",
      "{1: 1, 2: 4, 3: 9, 4: 16, 5: 25}\n"
     ]
    }
   ],
   "source": [
    "n=int(input())\n",
    "a={}\n",
    "i=1\n",
    "while(i<=n):\n",
    "    a[i]=i*i\n",
    "    i=i+1\n",
    "print(a)"
   ]
  },
  {
   "cell_type": "markdown",
   "metadata": {},
   "source": [
    "QUESTION 4"
   ]
  },
  {
   "cell_type": "code",
   "execution_count": 1,
   "metadata": {},
   "outputs": [
    {
     "name": "stdout",
     "output_type": "stream",
     "text": [
      "4\n",
      "UP 5\n",
      "DOWN 3\n",
      "LEFT 3\n",
      "RIGHT 3\n",
      "2\n"
     ]
    }
   ],
   "source": [
    "import math\n",
    "position={\"x\":0,\"y\":0}\n",
    "n=int(input())\n",
    "for i in range(0,n):\n",
    "    direction,steps=input().split()\n",
    "    if direction==\"UP\":\n",
    "        position[\"y\"]+=int(steps)\n",
    "    elif direction==\"DOWN\":\n",
    "        position[\"y\"]-=int(steps)\n",
    "    elif direction==\"LEFT\":\n",
    "        position[\"x\"]+=int(steps)\n",
    "    elif direction==\"RIGHT\":\n",
    "        position[\"x\"]-=int(steps)\n",
    "print(int(round(math.sqrt(position[\"x\"]**2+position[\"y\"]**2))))"
   ]
  }
 ],
 "metadata": {
  "kernelspec": {
   "display_name": "Python 3",
   "language": "python",
   "name": "python3"
  },
  "language_info": {
   "codemirror_mode": {
    "name": "ipython",
    "version": 3
   },
   "file_extension": ".py",
   "mimetype": "text/x-python",
   "name": "python",
   "nbconvert_exporter": "python",
   "pygments_lexer": "ipython3",
   "version": "3.8.3"
  }
 },
 "nbformat": 4,
 "nbformat_minor": 4
}
