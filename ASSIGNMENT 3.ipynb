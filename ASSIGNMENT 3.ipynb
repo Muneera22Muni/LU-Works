{
 "cells": [
  {
   "cell_type": "markdown",
   "metadata": {},
   "source": [
    "QUESTION 1"
   ]
  },
  {
   "cell_type": "code",
   "execution_count": 1,
   "metadata": {},
   "outputs": [
    {
     "data": {
      "text/plain": [
       "array([ 2,  5,  8, 11, 14, 17, 20, 23, 26, 29, 32, 35, 38, 41, 44, 47])"
      ]
     },
     "execution_count": 1,
     "metadata": {},
     "output_type": "execute_result"
    }
   ],
   "source": [
    "import numpy as np\n",
    "np.arange(2,50,3)"
   ]
  },
  {
   "cell_type": "markdown",
   "metadata": {},
   "source": [
    "QUESTION 2"
   ]
  },
  {
   "cell_type": "code",
   "execution_count": 1,
   "metadata": {},
   "outputs": [
    {
     "name": "stdout",
     "output_type": "stream",
     "text": [
      "enter elements for 1st list\n",
      "\n",
      "0\n",
      "9\n",
      "8\n",
      "7\n",
      "6\n",
      "enter elements for 2nd list\n",
      "\n",
      "5\n",
      "4\n",
      "3\n",
      "2\n",
      "1\n",
      "list1: [0, 9, 8, 7, 6]\n",
      "list2: [5, 4, 3, 2, 1]\n",
      "array1: [0 9 8 7 6]\n",
      "array2: [5 4 3 2 1]\n",
      "concatenated array: [0 9 8 7 6 5 4 3 2 1]\n",
      "sorted array1:\n",
      "[0 6 7 8 9]\n",
      "sorted array2:\n",
      "[1 2 3 4 5]\n",
      "sorted concatenated array:\n",
      "[0 1 2 3 4 5 6 7 8 9]\n"
     ]
    }
   ],
   "source": [
    "import numpy as np\n",
    "list1=[]\n",
    "print(\"enter elements for 1st list\\n\")\n",
    "n=5\n",
    "for i in range(0,n):\n",
    "    ele=int(input())\n",
    "    list1.append(ele)\n",
    "list2=[]\n",
    "print(\"enter elements for 2nd list\\n\")\n",
    "n=5\n",
    "for i in range(0,n):\n",
    "    ele=int(input())\n",
    "    list2.append(ele)\n",
    "\n",
    "ar1=np.array(list1)\n",
    "ar2=np.array(list2)\n",
    "print(\"list1:\",list1)\n",
    "print(\"list2:\",list2)\n",
    "print(\"array1:\",ar1)\n",
    "print(\"array2:\",ar2)\n",
    "ar3=np.array(np.concatenate((ar1,ar2)))\n",
    "print(\"concatenated array:\",ar3)\n",
    "print(\"sorted array1:\")\n",
    "print(np.sort(ar1))\n",
    "print(\"sorted array2:\")\n",
    "print(np.sort(ar2))\n",
    "print(\"sorted concatenated array:\")\n",
    "print(np.sort(ar3))\n"
   ]
  },
  {
   "cell_type": "markdown",
   "metadata": {},
   "source": [
    "QUESTION 3"
   ]
  },
  {
   "cell_type": "code",
   "execution_count": 1,
   "metadata": {},
   "outputs": [
    {
     "name": "stdout",
     "output_type": "stream",
     "text": [
      "[[2 3 4]\n",
      " [5 6 7]\n",
      " [1 8 9]]\n",
      "dimension: 2 \n",
      " size: 9\n"
     ]
    }
   ],
   "source": [
    "import numpy as np\n",
    "arr=np.array([[2,3,4],[5,6,7],[1,8,9]])\n",
    "print(arr)\n",
    "print(\"dimension:\",arr.ndim,\"\\n size:\",arr.size)"
   ]
  },
  {
   "cell_type": "markdown",
   "metadata": {},
   "source": [
    "QUESTION 4"
   ]
  },
  {
   "cell_type": "code",
   "execution_count": 2,
   "metadata": {},
   "outputs": [
    {
     "name": "stdout",
     "output_type": "stream",
     "text": [
      "1D array: [1 2 3 4]\n",
      "reshaped 2D: [[1 2]\n",
      " [3 4]]\n"
     ]
    }
   ],
   "source": [
    "import numpy as np\n",
    "arr1=np.array([1,2,3,4])\n",
    "print(\"1D array:\",arr1)\n",
    "rearr=np.reshape(arr1,(-1,2))\n",
    "print(\"reshaped 2D:\",rearr)"
   ]
  },
  {
   "cell_type": "code",
   "execution_count": 1,
   "metadata": {},
   "outputs": [
    {
     "name": "stdout",
     "output_type": "stream",
     "text": [
      "[[ 2]\n",
      " [ 5]\n",
      " [18]\n",
      " [14]\n",
      " [ 4]]\n"
     ]
    }
   ],
   "source": [
    "import numpy as np\n",
    "x=np.array([2,5,18,14,4])\n",
    "y=x[:,np.newaxis]\n",
    "print(y)"
   ]
  },
  {
   "cell_type": "markdown",
   "metadata": {},
   "source": [
    "QUESTION 5"
   ]
  },
  {
   "cell_type": "code",
   "execution_count": 1,
   "metadata": {},
   "outputs": [
    {
     "name": "stdout",
     "output_type": "stream",
     "text": [
      "vertical stacking:\n",
      " [[2 3]\n",
      " [3 6]\n",
      " [5 8]\n",
      " [6 9]]\n",
      "horizontal stacking:\n",
      " [[2 3 5 8]\n",
      " [3 6 6 9]]\n"
     ]
    }
   ],
   "source": [
    "import numpy as np\n",
    "arr1=np.array([[2,3],[3,6]])\n",
    "arr2=np.array([[5,8],[6,9]])\n",
    "print(\"vertical stacking:\\n\",np.vstack((arr1,arr2)))\n",
    "print(\"horizontal stacking:\\n\",np.hstack((arr1,arr2)))"
   ]
  },
  {
   "cell_type": "markdown",
   "metadata": {},
   "source": [
    "QUESTION 6"
   ]
  },
  {
   "cell_type": "code",
   "execution_count": 5,
   "metadata": {},
   "outputs": [
    {
     "name": "stdout",
     "output_type": "stream",
     "text": [
      "5\n"
     ]
    }
   ],
   "source": [
    "list=[1,3,2,5,2,3,1,6]\n",
    "a_set=set(list)\n",
    "no_of_unique_values=len(a_set)\n",
    "print(no_of_unique_values)"
   ]
  }
 ],
 "metadata": {
  "kernelspec": {
   "display_name": "Python 3",
   "language": "python",
   "name": "python3"
  },
  "language_info": {
   "codemirror_mode": {
    "name": "ipython",
    "version": 3
   },
   "file_extension": ".py",
   "mimetype": "text/x-python",
   "name": "python",
   "nbconvert_exporter": "python",
   "pygments_lexer": "ipython3",
   "version": "3.8.3"
  }
 },
 "nbformat": 4,
 "nbformat_minor": 4
}
